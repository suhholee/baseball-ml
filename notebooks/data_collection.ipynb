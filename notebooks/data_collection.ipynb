{
 "cells": [
  {
   "cell_type": "code",
   "execution_count": null,
   "metadata": {},
   "outputs": [],
   "source": [
    "import os\n",
    "import pandas as pd\n",
    "import numpy as np\n",
    "from pybaseball import batting_stats, pitching_stats, team_batting, team_pitching, playerid_lookup, schedule_and_record, standings\n",
    "from google.cloud import storage\n",
    "\n",
    "# Set up GCP credentials\n",
    "os.environ[\"GOOGLE_APPLICATION_CREDENTIALS\"] = \"/Users/suhholee/baseball-ml-gcp-credentials.json\""
   ]
  },
  {
   "cell_type": "code",
   "execution_count": null,
   "metadata": {},
   "outputs": [],
   "source": [
    "# Initialize GCP clients\n",
    "storage_client = storage.Client()"
   ]
  },
  {
   "cell_type": "code",
   "execution_count": 11,
   "metadata": {},
   "outputs": [],
   "source": [
    "# Create GCP bucket\n",
    "bucket_name = \"baseball-ml-data\"\n",
    "bucket = storage_client.create_bucket(bucket_name)"
   ]
  },
  {
   "cell_type": "code",
   "execution_count": null,
   "metadata": {},
   "outputs": [],
   "source": [
    "def fetch_and_save_data(data_function, years, filename_prefix):\n",
    "    \"\"\"Fetch data for multiple years and save to CSV\"\"\"\n",
    "    all_data = []\n",
    "    \n",
    "    for year in years:\n",
    "        print(f\"Fetching {filename_prefix} data for {year}...\")\n",
    "        try:\n",
    "            year_data = data_function(year)\n",
    "            year_data['season'] = year  # Add year column for tracking\n",
    "            all_data.append(year_data)\n",
    "            print(f\"Retrieved {len(year_data)} records\")\n",
    "        except Exception as e:\n",
    "            print(f\"Error fetching data for {year}: {e}\")\n",
    "    \n",
    "    # Combine all years\n",
    "    if all_data:\n",
    "        combined_data = pd.concat(all_data, ignore_index=True)\n",
    "        \n",
    "        # Save locally\n",
    "        local_path = f\"../data/raw/{filename_prefix}_{min(years)}-{max(years)}.csv\"\n",
    "        os.makedirs(os.path.dirname(local_path), exist_ok=True)\n",
    "        combined_data.to_csv(local_path, index=False)\n",
    "        print(f\"Saved combined data to {local_path}\")\n",
    "        \n",
    "        # Upload to GCS\n",
    "        blob = bucket.blob(f\"raw/{filename_prefix}_{min(years)}-{max(years)}.csv\")\n",
    "        blob.upload_from_filename(local_path)\n",
    "        print(f\"Uploaded to GCS: gs://{bucket_name}/{blob.name}\")\n",
    "        \n",
    "        return combined_data\n",
    "    else:\n",
    "        print(\"No data collected.\")\n",
    "        return None"
   ]
  },
  {
   "cell_type": "code",
   "execution_count": null,
   "metadata": {},
   "outputs": [
    {
     "name": "stdout",
     "output_type": "stream",
     "text": [
      "Fetching batting data for 2016...\n",
      "Retrieved 146 records\n",
      "Fetching batting data for 2017...\n",
      "Retrieved 144 records\n",
      "Fetching batting data for 2018...\n",
      "Retrieved 141 records\n",
      "Fetching batting data for 2019...\n",
      "Retrieved 135 records\n",
      "Fetching batting data for 2020...\n",
      "Retrieved 142 records\n",
      "Fetching batting data for 2021...\n",
      "Retrieved 132 records\n",
      "Fetching batting data for 2022...\n",
      "Retrieved 130 records\n",
      "Fetching batting data for 2023...\n",
      "Retrieved 134 records\n",
      "Fetching batting data for 2024...\n",
      "Retrieved 129 records\n",
      "Saved combined data to data/raw/batting_2016-2024.csv\n",
      "Uploaded to GCS: gs://baseball-ml-data/raw/batting_2016-2024.csv\n",
      "Fetching pitching data for 2016...\n",
      "Retrieved 74 records\n",
      "Fetching pitching data for 2017...\n",
      "Retrieved 58 records\n",
      "Fetching pitching data for 2018...\n",
      "Retrieved 58 records\n",
      "Fetching pitching data for 2019...\n",
      "Retrieved 61 records\n",
      "Fetching pitching data for 2020...\n",
      "Retrieved 40 records\n",
      "Fetching pitching data for 2021...\n",
      "Retrieved 39 records\n",
      "Fetching pitching data for 2022...\n",
      "Retrieved 45 records\n",
      "Fetching pitching data for 2023...\n",
      "Retrieved 44 records\n",
      "Fetching pitching data for 2024...\n",
      "Retrieved 58 records\n",
      "Saved combined data to data/raw/pitching_2016-2024.csv\n",
      "Uploaded to GCS: gs://baseball-ml-data/raw/pitching_2016-2024.csv\n",
      "Fetching team_batting data for 2016...\n",
      "Retrieved 30 records\n",
      "Fetching team_batting data for 2017...\n",
      "Retrieved 30 records\n",
      "Fetching team_batting data for 2018...\n",
      "Retrieved 30 records\n",
      "Fetching team_batting data for 2019...\n",
      "Retrieved 30 records\n",
      "Fetching team_batting data for 2020...\n",
      "Retrieved 30 records\n",
      "Fetching team_batting data for 2021...\n",
      "Retrieved 30 records\n",
      "Fetching team_batting data for 2022...\n",
      "Retrieved 30 records\n",
      "Fetching team_batting data for 2023...\n",
      "Retrieved 30 records\n",
      "Fetching team_batting data for 2024...\n",
      "Retrieved 30 records\n",
      "Saved combined data to data/raw/team_batting_2016-2024.csv\n",
      "Uploaded to GCS: gs://baseball-ml-data/raw/team_batting_2016-2024.csv\n",
      "Fetching team_pitching data for 2016...\n",
      "Retrieved 30 records\n",
      "Fetching team_pitching data for 2017...\n",
      "Retrieved 30 records\n",
      "Fetching team_pitching data for 2018...\n",
      "Retrieved 30 records\n",
      "Fetching team_pitching data for 2019...\n",
      "Retrieved 30 records\n",
      "Fetching team_pitching data for 2020...\n",
      "Retrieved 30 records\n",
      "Fetching team_pitching data for 2021...\n",
      "Retrieved 30 records\n",
      "Fetching team_pitching data for 2022...\n",
      "Retrieved 30 records\n",
      "Fetching team_pitching data for 2023...\n",
      "Retrieved 30 records\n",
      "Fetching team_pitching data for 2024...\n",
      "Retrieved 30 records\n",
      "Saved combined data to data/raw/team_pitching_2016-2024.csv\n",
      "Uploaded to GCS: gs://baseball-ml-data/raw/team_pitching_2016-2024.csv\n"
     ]
    }
   ],
   "source": [
    "# Collect data\n",
    "years = list(range(2016, 2025))\n",
    "batting_data = fetch_and_save_data(batting_stats, years, \"batting\")\n",
    "pitching_data = fetch_and_save_data(pitching_stats, years, \"pitching\")\n",
    "team_batting_data = fetch_and_save_data(team_batting, years, \"team_batting\")\n",
    "team_pitching_data = fetch_and_save_data(team_pitching, years, \"team_pitching\")"
   ]
  },
  {
   "cell_type": "code",
   "execution_count": 53,
   "metadata": {},
   "outputs": [
    {
     "name": "stdout",
     "output_type": "stream",
     "text": [
      "\n",
      "Top 10 batting averages (2024):\n",
      "                       Name   Team    AVG  HR  RBI\n",
      "1105         Bobby Witt Jr.    KCR  0.332  32  109\n",
      "1115  Vladimir Guerrero Jr.    TOR  0.323  30  103\n",
      "1104            Aaron Judge    NYY  0.322  58  144\n",
      "1213            Luis Arraez  - - -  0.314   4   46\n",
      "1106          Shohei Ohtani    LAD  0.310  54  130\n",
      "1118         Yordan Alvarez    HOU  0.308  35   86\n",
      "1123          Marcell Ozuna    ATL  0.302  39  104\n",
      "1167            Yainer Diaz    HOU  0.299  16   84\n",
      "1140            Jose Altuve    HOU  0.295  20   65\n",
      "1138            Trea Turner    PHI  0.295  21   62\n"
     ]
    }
   ],
   "source": [
    "if batting_data is not None:\n",
    "    print(\"\\nTop 10 batting averages (2024):\")\n",
    "    batting_2024 = batting_data[batting_data['season'] == 2024]\n",
    "    qualified = batting_2024[batting_2024['AB'] >= 300]\n",
    "    print(qualified.sort_values('AVG', ascending=False)[['Name', 'Team', 'AVG', 'HR', 'RBI']].head(10))"
   ]
  },
  {
   "cell_type": "code",
   "execution_count": null,
   "metadata": {},
   "outputs": [],
   "source": []
  }
 ],
 "metadata": {
  "kernelspec": {
   "display_name": "baseball_env",
   "language": "python",
   "name": "python3"
  },
  "language_info": {
   "codemirror_mode": {
    "name": "ipython",
    "version": 3
   },
   "file_extension": ".py",
   "mimetype": "text/x-python",
   "name": "python",
   "nbconvert_exporter": "python",
   "pygments_lexer": "ipython3",
   "version": "3.12.8"
  }
 },
 "nbformat": 4,
 "nbformat_minor": 2
}
